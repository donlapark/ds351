{
 "cells": [
  {
   "cell_type": "markdown",
   "metadata": {
    "id": "rUWDxJYaXbGS"
   },
   "source": [
    "ปฏิบัติการครั้งที่ 5 กระบวนวิชา 229351 Statistical Learning for Data Science\n",
    "\n",
    "คำชี้แจง\n",
    "\n",
    "ให้เริ่มทำปฏิบัติการจาก colab notebook ที่กำหนดให้ จากนั้น share แล้วส่ง link มาใน mango.cmu.ac.th"
   ]
  },
  {
   "cell_type": "markdown",
   "metadata": {
    "id": "BFeBRlckOxSG"
   },
   "source": [
    "ดาวน์โหลดข้อมูลรถยนต์ชนิดต่างใน link ข้างล่างนี้\n",
    "http://www.donlapark.cmustat.com/229351/data/Auto.csv\n",
    "หรือรันโค้ดข้างล่าง"
   ]
  },
  {
   "cell_type": "code",
   "execution_count": 1,
   "metadata": {
    "id": "ntO6KNB7A24q"
   },
   "outputs": [
    {
     "name": "stdout",
     "output_type": "stream",
     "text": [
      "--2023-01-05 11:05:09--  http://www.donlapark.cmustat.com/229351/data/Auto.csv\n",
      "Resolving www.donlapark.cmustat.com (www.donlapark.cmustat.com)... 150.107.31.67\n",
      "Connecting to www.donlapark.cmustat.com (www.donlapark.cmustat.com)|150.107.31.67|:80... connected.\n",
      "HTTP request sent, awaiting response... 301 Moved Permanently\n",
      "Location: https://donlapark.pages.dev/229351/data/Auto.csv [following]\n",
      "--2023-01-05 11:05:09--  https://donlapark.pages.dev/229351/data/Auto.csv\n",
      "Resolving donlapark.pages.dev (donlapark.pages.dev)... 172.66.47.56, 172.66.44.200, 2606:4700:310c::ac42:2f38, ...\n",
      "Connecting to donlapark.pages.dev (donlapark.pages.dev)|172.66.47.56|:443... connected.\n",
      "HTTP request sent, awaiting response... 200 OK\n",
      "Length: 18079 (18K) [text/csv]\n",
      "Saving to: ‘Auto.csv.2’\n",
      "\n",
      "Auto.csv.2          100%[===================>]  17.66K  --.-KB/s    in 0s      \n",
      "\n",
      "2023-01-05 11:05:09 (50.0 MB/s) - ‘Auto.csv.2’ saved [18079/18079]\n",
      "\n"
     ]
    }
   ],
   "source": [
    "!wget http://www.donlapark.cmustat.com/229351/data/Auto.csv  "
   ]
  },
  {
   "cell_type": "code",
   "execution_count": 2,
   "metadata": {
    "id": "5Tebr3-dBKxj"
   },
   "outputs": [],
   "source": [
    "# import module ที่ต้องใช้\n",
    "\n",
    "import numpy as np\n",
    "import pandas as pd\n",
    "from scipy import stats"
   ]
  },
  {
   "cell_type": "code",
   "execution_count": 3,
   "metadata": {
    "id": "O_4Mr2OWaAae"
   },
   "outputs": [
    {
     "data": {
      "text/html": [
       "<div>\n",
       "<style scoped>\n",
       "    .dataframe tbody tr th:only-of-type {\n",
       "        vertical-align: middle;\n",
       "    }\n",
       "\n",
       "    .dataframe tbody tr th {\n",
       "        vertical-align: top;\n",
       "    }\n",
       "\n",
       "    .dataframe thead th {\n",
       "        text-align: right;\n",
       "    }\n",
       "</style>\n",
       "<table border=\"1\" class=\"dataframe\">\n",
       "  <thead>\n",
       "    <tr style=\"text-align: right;\">\n",
       "      <th></th>\n",
       "      <th>mpg</th>\n",
       "      <th>cylinders</th>\n",
       "      <th>displacement</th>\n",
       "      <th>horsepower</th>\n",
       "      <th>weight</th>\n",
       "      <th>acceleration</th>\n",
       "      <th>year</th>\n",
       "      <th>origin</th>\n",
       "      <th>name</th>\n",
       "    </tr>\n",
       "  </thead>\n",
       "  <tbody>\n",
       "    <tr>\n",
       "      <th>0</th>\n",
       "      <td>18.0</td>\n",
       "      <td>8</td>\n",
       "      <td>307.0</td>\n",
       "      <td>130.0</td>\n",
       "      <td>3504</td>\n",
       "      <td>12.0</td>\n",
       "      <td>70</td>\n",
       "      <td>1</td>\n",
       "      <td>chevrolet chevelle malibu</td>\n",
       "    </tr>\n",
       "    <tr>\n",
       "      <th>1</th>\n",
       "      <td>15.0</td>\n",
       "      <td>8</td>\n",
       "      <td>350.0</td>\n",
       "      <td>165.0</td>\n",
       "      <td>3693</td>\n",
       "      <td>11.5</td>\n",
       "      <td>70</td>\n",
       "      <td>1</td>\n",
       "      <td>buick skylark 320</td>\n",
       "    </tr>\n",
       "    <tr>\n",
       "      <th>2</th>\n",
       "      <td>18.0</td>\n",
       "      <td>8</td>\n",
       "      <td>318.0</td>\n",
       "      <td>150.0</td>\n",
       "      <td>3436</td>\n",
       "      <td>11.0</td>\n",
       "      <td>70</td>\n",
       "      <td>1</td>\n",
       "      <td>plymouth satellite</td>\n",
       "    </tr>\n",
       "    <tr>\n",
       "      <th>3</th>\n",
       "      <td>16.0</td>\n",
       "      <td>8</td>\n",
       "      <td>304.0</td>\n",
       "      <td>150.0</td>\n",
       "      <td>3433</td>\n",
       "      <td>12.0</td>\n",
       "      <td>70</td>\n",
       "      <td>1</td>\n",
       "      <td>amc rebel sst</td>\n",
       "    </tr>\n",
       "    <tr>\n",
       "      <th>4</th>\n",
       "      <td>17.0</td>\n",
       "      <td>8</td>\n",
       "      <td>302.0</td>\n",
       "      <td>140.0</td>\n",
       "      <td>3449</td>\n",
       "      <td>10.5</td>\n",
       "      <td>70</td>\n",
       "      <td>1</td>\n",
       "      <td>ford torino</td>\n",
       "    </tr>\n",
       "  </tbody>\n",
       "</table>\n",
       "</div>"
      ],
      "text/plain": [
       "    mpg  cylinders  displacement  horsepower  weight  acceleration  year  \\\n",
       "0  18.0          8         307.0       130.0    3504          12.0    70   \n",
       "1  15.0          8         350.0       165.0    3693          11.5    70   \n",
       "2  18.0          8         318.0       150.0    3436          11.0    70   \n",
       "3  16.0          8         304.0       150.0    3433          12.0    70   \n",
       "4  17.0          8         302.0       140.0    3449          10.5    70   \n",
       "\n",
       "   origin                       name  \n",
       "0       1  chevrolet chevelle malibu  \n",
       "1       1          buick skylark 320  \n",
       "2       1         plymouth satellite  \n",
       "3       1              amc rebel sst  \n",
       "4       1                ford torino  "
      ]
     },
     "execution_count": 3,
     "metadata": {},
     "output_type": "execute_result"
    }
   ],
   "source": [
    "# อ่านไฟล์ csv ก่อนเพื่อหา missing values\n",
    "auto_df = pd.read_csv('Auto.csv',na_values=[\"?\"])\n",
    "predictor_names = auto_df.columns\n",
    "\n",
    "# ลบแถวที่มี missing values\n",
    "auto_df = auto_df.dropna()\n",
    "auto_df.head()"
   ]
  },
  {
   "cell_type": "markdown",
   "metadata": {
    "id": "es1_uN5S94_7"
   },
   "source": [
    "### ตัวแปรต่าง ๆ มีดังนี้\n",
    "mpg\n",
    "\n",
    "    miles per gallon\n",
    "cylinders\n",
    "\n",
    "    Number of cylinders between 4 and 8\n",
    "displacement\n",
    "\n",
    "    Engine displacement (cu. inches)\n",
    "horsepower\n",
    "\n",
    "    Engine horsepower\n",
    "weight\n",
    "\n",
    "    Vehicle weight (lbs.)\n",
    "acceleration\n",
    "\n",
    "    Time to accelerate from 0 to 60 mph (sec.)\n",
    "year\n",
    "\n",
    "    Model year (modulo 100)\n",
    "origin\n",
    "\n",
    "    Origin of car (1. American, 2. European, 3. Japanese)\n",
    "name\n",
    "\n",
    "    Vehicle name\n"
   ]
  },
  {
   "cell_type": "code",
   "execution_count": 4,
   "metadata": {
    "id": "XlOmwZlvQXAR"
   },
   "outputs": [
    {
     "data": {
      "text/html": [
       "<div>\n",
       "<style scoped>\n",
       "    .dataframe tbody tr th:only-of-type {\n",
       "        vertical-align: middle;\n",
       "    }\n",
       "\n",
       "    .dataframe tbody tr th {\n",
       "        vertical-align: top;\n",
       "    }\n",
       "\n",
       "    .dataframe thead th {\n",
       "        text-align: right;\n",
       "    }\n",
       "</style>\n",
       "<table border=\"1\" class=\"dataframe\">\n",
       "  <thead>\n",
       "    <tr style=\"text-align: right;\">\n",
       "      <th></th>\n",
       "      <th>mpg</th>\n",
       "      <th>cylinders</th>\n",
       "      <th>displacement</th>\n",
       "      <th>horsepower</th>\n",
       "      <th>weight</th>\n",
       "      <th>acceleration</th>\n",
       "      <th>year</th>\n",
       "    </tr>\n",
       "  </thead>\n",
       "  <tbody>\n",
       "    <tr>\n",
       "      <th>0</th>\n",
       "      <td>18.0</td>\n",
       "      <td>8</td>\n",
       "      <td>307.0</td>\n",
       "      <td>130.0</td>\n",
       "      <td>3504</td>\n",
       "      <td>12.0</td>\n",
       "      <td>70</td>\n",
       "    </tr>\n",
       "    <tr>\n",
       "      <th>1</th>\n",
       "      <td>15.0</td>\n",
       "      <td>8</td>\n",
       "      <td>350.0</td>\n",
       "      <td>165.0</td>\n",
       "      <td>3693</td>\n",
       "      <td>11.5</td>\n",
       "      <td>70</td>\n",
       "    </tr>\n",
       "    <tr>\n",
       "      <th>2</th>\n",
       "      <td>18.0</td>\n",
       "      <td>8</td>\n",
       "      <td>318.0</td>\n",
       "      <td>150.0</td>\n",
       "      <td>3436</td>\n",
       "      <td>11.0</td>\n",
       "      <td>70</td>\n",
       "    </tr>\n",
       "    <tr>\n",
       "      <th>3</th>\n",
       "      <td>16.0</td>\n",
       "      <td>8</td>\n",
       "      <td>304.0</td>\n",
       "      <td>150.0</td>\n",
       "      <td>3433</td>\n",
       "      <td>12.0</td>\n",
       "      <td>70</td>\n",
       "    </tr>\n",
       "    <tr>\n",
       "      <th>4</th>\n",
       "      <td>17.0</td>\n",
       "      <td>8</td>\n",
       "      <td>302.0</td>\n",
       "      <td>140.0</td>\n",
       "      <td>3449</td>\n",
       "      <td>10.5</td>\n",
       "      <td>70</td>\n",
       "    </tr>\n",
       "  </tbody>\n",
       "</table>\n",
       "</div>"
      ],
      "text/plain": [
       "    mpg  cylinders  displacement  horsepower  weight  acceleration  year\n",
       "0  18.0          8         307.0       130.0    3504          12.0    70\n",
       "1  15.0          8         350.0       165.0    3693          11.5    70\n",
       "2  18.0          8         318.0       150.0    3436          11.0    70\n",
       "3  16.0          8         304.0       150.0    3433          12.0    70\n",
       "4  17.0          8         302.0       140.0    3449          10.5    70"
      ]
     },
     "execution_count": 4,
     "metadata": {},
     "output_type": "execute_result"
    }
   ],
   "source": [
    "auto_df = auto_df.drop(['name', 'origin'],axis=1)\n",
    "\n",
    "auto_df.head()"
   ]
  },
  {
   "cell_type": "markdown",
   "metadata": {
    "id": "Mo4ddcb7BZj4"
   },
   "source": [
    "## 1. Multivariate linear regression\n",
    "\n",
    "เปลี่ยน $\\texttt{dataframe}$ ให้เป็น numpy array ด้วย $\\texttt{dataframe.to_numpy()}$  \n",
    "\n",
    "1. Response: $\\texttt{y}$ เป็นคอลัมน์เวกเตอร์ของ $\\texttt{mpg}$\n",
    "2. Predictors: $\\texttt{X}$ เป็นเมทริกซ์ของตัวแปรที่เหลือ (ใช้ $\\texttt{auto_df.drop}$)\n"
   ]
  },
  {
   "cell_type": "code",
   "execution_count": 5,
   "metadata": {
    "id": "6njJmujsAUNv"
   },
   "outputs": [],
   "source": [
    "y = auto_df['mpg'].to_numpy()\n",
    "X = auto_df.drop(['mpg'],axis=1).to_numpy()"
   ]
  },
  {
   "cell_type": "markdown",
   "metadata": {
    "id": "H5CxnhqJEmUN"
   },
   "source": [
    "คอลัมน์แรกของ $\\texttt{X}$ ต้องเป็น $(1, 1, \\ldots ,1 )^T$ (จำนวนเลข 1 เท่ากับจำนวนแถวของ $\\texttt{X}$)  \n",
    "สร้างเวกเตอร์ที่มีแต่เลข 1 และมีความยาวที่เหมาะสมด้วยคำสั่งใดคำสั่งหนึ่งต่อไปนี้  \n",
    "1. $\\texttt{[1]*X.shape[0]}$  \n",
    "2. $\\texttt{np.ones(X.shape[0])}$  "
   ]
  },
  {
   "cell_type": "code",
   "execution_count": 6,
   "metadata": {
    "id": "zoO80UAEm6g5"
   },
   "outputs": [
    {
     "data": {
      "text/plain": [
       "(392, 6)"
      ]
     },
     "execution_count": 6,
     "metadata": {},
     "output_type": "execute_result"
    }
   ],
   "source": [
    "X.shape"
   ]
  },
  {
   "cell_type": "code",
   "execution_count": 8,
   "metadata": {
    "id": "kD8uzgohDRIX"
   },
   "outputs": [],
   "source": [
    "ones =  [1]*X.shape[0] #your answer here\n",
    "\n",
    "# ใส่ ones ให้เป็นคอลัมน์แรกของ X\n",
    "X = np.c_[ones,X]"
   ]
  },
  {
   "cell_type": "code",
   "execution_count": 9,
   "metadata": {
    "id": "yyk9EnXdD0ZU"
   },
   "outputs": [
    {
     "name": "stdout",
     "output_type": "stream",
     "text": [
      "[[1.000e+00 8.000e+00 3.070e+02 ... 3.504e+03 1.200e+01 7.000e+01]\n",
      " [1.000e+00 8.000e+00 3.500e+02 ... 3.693e+03 1.150e+01 7.000e+01]\n",
      " [1.000e+00 8.000e+00 3.180e+02 ... 3.436e+03 1.100e+01 7.000e+01]\n",
      " ...\n",
      " [1.000e+00 4.000e+00 1.350e+02 ... 2.295e+03 1.160e+01 8.200e+01]\n",
      " [1.000e+00 4.000e+00 1.200e+02 ... 2.625e+03 1.860e+01 8.200e+01]\n",
      " [1.000e+00 4.000e+00 1.190e+02 ... 2.720e+03 1.940e+01 8.200e+01]]\n"
     ]
    }
   ],
   "source": [
    "#เช็คคำตอบ\n",
    "print(X)"
   ]
  },
  {
   "cell_type": "markdown",
   "metadata": {},
   "source": [
    "### Exercise 1: จงเขียนฟังก์ชันต่อไปนี้ \n",
    "1. `linear_model` มี input เป็นแมทริกซ์ `X` เวกเตอร์ `y` และ output เป็นเวกเตอร์ของสัมประสิทธิ์ \n",
    "2. `predict` มี input เป็นแมทริกซ์ `X` เวกเตอร์ของสัมประสิทธิ์ `beta` และ output เป็นเวกเตอร์ของค่าทำนาย `y_pred` "
   ]
  },
  {
   "cell_type": "markdown",
   "metadata": {
    "id": "DntRinCFiSMx"
   },
   "source": [
    "1. Matrix multiplication $AB = \\texttt{A@B}$\n",
    "2. Transpose: $X^T = \\texttt{X.T}$\n",
    "3. Inverse: $X^{-1} = \\texttt{np.linalg.inv(X)}$\n",
    "\n",
    "$$ \\hat{\\beta} = (X^TX)^{-1}X^Ty $$"
   ]
  },
  {
   "cell_type": "code",
   "execution_count": null,
   "metadata": {
    "id": "-gCRXKb8fkuH"
   },
   "outputs": [],
   "source": [
    "# Let's implement linear regression from scratch\n",
    "# using the formula provided in the class\n",
    "\n",
    "def linear_model(X, y):\n",
    "    \"\"\"X: เมทริกซ์ของตัวแปรต้น\"\"\"\n",
    "    \"\"\"y: เวกเตอร์ของตัวแปรตาม\"\"\"\n",
    "    \"\"\"Return: เวกเตอร์ของ parameter beta จากการสร้าง linear regressions model\n",
    "    ด้วย Ordinary Least Squares (OLS)\"\"\"\n",
    "    # TODO: your code here\n",
    "\n",
    "\n",
    "    return beta \n",
    "\n",
    "\n",
    "def predict(X, beta):\n",
    "    \"\"\"beta: array ของสัมประสิทธิ์\"\"\"\n",
    "    \"\"\"X: เมทริกซ์ของตัวแปรต้น\"\"\" \n",
    "    \"\"\"Return: ค่าทำนาย y_pred = X*beta \"\"\"\n",
    "    # TODO: your code here\n",
    "\n",
    "\n",
    "    return y_pred"
   ]
  },
  {
   "cell_type": "code",
   "execution_count": null,
   "metadata": {
    "id": "-QbEbw2lpYI-"
   },
   "outputs": [],
   "source": [
    "beta = linear_model(X, y)\n",
    "y_pred = predict(X, beta)\n",
    "\n",
    "beta"
   ]
  },
  {
   "cell_type": "markdown",
   "metadata": {
    "id": "L1UMYiD5q5bq"
   },
   "source": [
    "#### จงหา $n$ (จำนวนแถวของ $\\texttt{X}$) และ $p$ (จำนวนตัวแปร) ด้วย method $\\texttt{X.shape[...]}$"
   ]
  },
  {
   "cell_type": "code",
   "execution_count": null,
   "metadata": {
    "id": "_vthb9XCiYfo"
   },
   "outputs": [],
   "source": [
    "n = X.shape[0]\n",
    "\n",
    "p = X.shape[1]-1\n",
    "\n",
    "print('Number of observations: ',n)\n",
    "print('Number of variables: ',p)"
   ]
  },
  {
   "cell_type": "markdown",
   "metadata": {},
   "source": [
    "## 2. F-statistic\n",
    "\n",
    "### Exercise 2: จงเขียนสมมติฐานหลังและสมมติฐานแย้งที่ใช้ F-statistic ในการทดสอบ"
   ]
  },
  {
   "cell_type": "markdown",
   "metadata": {},
   "source": [
    "### Exercise 3: จากเวกเตอร์ของ outcomes `y` จงคำนวณ Total Sum of Squares (TSS)"
   ]
  },
  {
   "cell_type": "markdown",
   "metadata": {
    "id": "wbRqP-L9qFRX"
   },
   "source": [
    "$$ \\text{TSS} = \\sum_{i=1}^n (y_i-\\bar{y})^2 $$\n",
    "โดยใช้คำสั่งต่อไปนี้\n",
    "\n",
    "$\\texttt{np.sum}([y_1,y_2,...,y_n])=y_1+y_2+...+y_n$\n",
    "\n",
    "$\\texttt{np.square}([y_1,y_2,...,y_n])=[y_1^2,y^2_2,...,y^2_n]$"
   ]
  },
  {
   "cell_type": "code",
   "execution_count": null,
   "metadata": {
    "id": "pYAI-2fhqFvx"
   },
   "outputs": [],
   "source": [
    "# Calculate Total Sum of Squares\n",
    "y_mean = y.mean()\n",
    "\n",
    "TSS = # TODO: your code here\n",
    "\n",
    "RSS = np.sum(np.square(y-y_pred))"
   ]
  },
  {
   "cell_type": "markdown",
   "metadata": {
    "id": "COSxovBLMkr8"
   },
   "source": [
    "คำนวณ $F$-statistic ด้วย\n",
    "$$F_{p,n-p-1} = \\frac{(\\text{TSS}-\\text{RSS})/p}{\\text{RSS}/(n-p-1)}$$\n",
    "หา $n$ และจำนวนของตัวแปร $p$ ด้วย $\\texttt{X.shape}[\\cdot]$"
   ]
  },
  {
   "cell_type": "markdown",
   "metadata": {},
   "source": [
    "### Exercise 4: คำนวณค่า F"
   ]
  },
  {
   "cell_type": "code",
   "execution_count": null,
   "metadata": {
    "id": "m7qCrrgpPiy9"
   },
   "outputs": [],
   "source": [
    "F = \n",
    "\n",
    "print(F)"
   ]
  },
  {
   "cell_type": "code",
   "execution_count": null,
   "metadata": {
    "id": "4OcMtqBPQI5V"
   },
   "outputs": [],
   "source": [
    "# Compute p_value of the F-statistic\n",
    "\n",
    "p_value = stats.f.sf(F, p, n-p-1)\n",
    "\n",
    "print(p_value)"
   ]
  },
  {
   "cell_type": "markdown",
   "metadata": {
    "id": "x5ymukiLQuTt"
   },
   "source": [
    "### Exercise 5: จากการทดสอบสมมติฐานที่นัยสำคัญ 0.05 เราได้ข้อสรุปอย่างไรกับตัวแปรต้น (predictors) จากค่า p-value ที่ได้ข้างบน"
   ]
  },
  {
   "cell_type": "markdown",
   "metadata": {
    "id": "fxz0W6YlRyTj"
   },
   "source": []
  },
  {
   "cell_type": "markdown",
   "metadata": {
    "id": "iLm_WXA7ryIl"
   },
   "source": [
    "## 3. คำนวณ $t$-statistic\n",
    "\n",
    "#### ขั้นตอนในการคำนวณ $t$-statistic\n",
    "\n",
    "\\begin{align*} \n",
    "\\text{RSE} &= \\sqrt{\\frac{\\text{RSS}}{n-p-1}} \\\\\n",
    "\\text{SE}(\\hat{\\beta}) &=\\text{RSE}\\cdot\\sqrt{\\text{diag}\\left( (X^TX)^{-1}\\right)} \\\\\n",
    "t &= \\frac{\\hat{\\beta}}{\\text{SE}(\\hat{\\beta})}\n",
    "\\end{align*}"
   ]
  },
  {
   "cell_type": "markdown",
   "metadata": {},
   "source": [
    "### Exercise 6: จงใช้ฟังก์ชัน `t_to_p_values` ข้างล่างในการหาว่ามีตัวแปรใดบ้างที่มีค่า p-value น้อยกว่า 0.05 **แล้วระบุตัวแปรทั้งหมดใน text block ข้างล่าง**  \n",
    "\n",
    "#### ใช้คำสั่ง `A.diagonal()` เพื่อคำนวณเวกเตอร์ของค่าในแนวทแยงของ `A`"
   ]
  },
  {
   "cell_type": "code",
   "execution_count": null,
   "metadata": {
    "id": "tqmOPP4ctv7S"
   },
   "outputs": [],
   "source": [
    "# TODO: your code here\n",
    "\n",
    "RSE = \n",
    "SE =\n",
    "t ="
   ]
  },
  {
   "cell_type": "code",
   "execution_count": null,
   "metadata": {
    "id": "IJwkRoYlt8U_"
   },
   "outputs": [],
   "source": [
    "def t_to_p_values(t_statistics):\n",
    "    \"\"\"t_statistics: numpy array ของค่า t-statistic ของตัวแปรต่างๆ\n",
    "    Return: เวกเตอร์ของค่า p-value ของค่า t-statistic ที่ให้มา\"\"\"\n",
    "    return stats.t.sf(np.abs(t_statistics), n-p-1)*2\n",
    "\n",
    "# Standard error of each variable in X\n",
    "p = t_to_p_values(t)"
   ]
  },
  {
   "cell_type": "code",
   "execution_count": 12,
   "metadata": {},
   "outputs": [
    {
     "name": "stdout",
     "output_type": "stream",
     "text": [
      "List of predictors: Index(['cylinders', 'displacement', 'horsepower', 'weight', 'acceleration',\n",
      "       'year'],\n",
      "      dtype='object')\n"
     ]
    }
   ],
   "source": [
    "print(\"List of predictors:\", predictor_names[1:-2])"
   ]
  },
  {
   "cell_type": "markdown",
   "metadata": {
    "id": "61K108Bjcjw5"
   },
   "source": [
    "### คำตอบของ Exercise 6:\n",
    "\n",
    "\n",
    "\n"
   ]
  },
  {
   "cell_type": "markdown",
   "metadata": {},
   "source": [
    "### Exercise 7: จากการทดสอบสมมติฐานที่นัยสำคัญ 0.05 มีตัวแปรต้นตัวใดบ้างที่ไม่น่าจะมีความสำคัญในโมเดล linear regression นี้"
   ]
  },
  {
   "cell_type": "markdown",
   "metadata": {},
   "source": [
    "### คำตอบของ Exercise 7:\n",
    "\n",
    "\n",
    "\n"
   ]
  },
  {
   "cell_type": "markdown",
   "metadata": {
    "id": "kvxBs5Hlk5rZ"
   },
   "source": [
    "#### statsmodels library สามารถคำนวณค่าต่างๆ เหล่านี้ได้ ผลที่แสดงจะคล้ายกับใน R  \n",
    "#### มีสองวิธึในการทำ linear regression: $\\texttt{statsmodels.api.sm.OLS}$ \n",
    "#### และ $\\texttt{statsmodels.formula.api.smf.ols}$"
   ]
  },
  {
   "cell_type": "code",
   "execution_count": 10,
   "metadata": {
    "id": "2srU_UiTbhS9"
   },
   "outputs": [
    {
     "name": "stdout",
     "output_type": "stream",
     "text": [
      "                            OLS Regression Results                            \n",
      "==============================================================================\n",
      "Dep. Variable:                    mpg   R-squared:                       0.809\n",
      "Model:                            OLS   Adj. R-squared:                  0.806\n",
      "Method:                 Least Squares   F-statistic:                     272.2\n",
      "Date:                Thu, 05 Jan 2023   Prob (F-statistic):          3.79e-135\n",
      "Time:                        11:18:31   Log-Likelihood:                -1036.5\n",
      "No. Observations:                 392   AIC:                             2087.\n",
      "Df Residuals:                     385   BIC:                             2115.\n",
      "Df Model:                           6                                         \n",
      "Covariance Type:            nonrobust                                         \n",
      "================================================================================\n",
      "                   coef    std err          t      P>|t|      [0.025      0.975]\n",
      "--------------------------------------------------------------------------------\n",
      "const          -14.5353      4.764     -3.051      0.002     -23.902      -5.169\n",
      "cylinders       -0.3299      0.332     -0.993      0.321      -0.983       0.323\n",
      "displacement     0.0077      0.007      1.044      0.297      -0.007       0.022\n",
      "horsepower      -0.0004      0.014     -0.028      0.977      -0.028       0.027\n",
      "weight          -0.0068      0.001    -10.141      0.000      -0.008      -0.005\n",
      "acceleration     0.0853      0.102      0.836      0.404      -0.115       0.286\n",
      "year             0.7534      0.053     14.318      0.000       0.650       0.857\n",
      "==============================================================================\n",
      "Omnibus:                       37.865   Durbin-Watson:                   1.232\n",
      "Prob(Omnibus):                  0.000   Jarque-Bera (JB):               60.248\n",
      "Skew:                           0.630   Prob(JB):                     8.26e-14\n",
      "Kurtosis:                       4.449   Cond. No.                     8.53e+04\n",
      "==============================================================================\n",
      "\n",
      "Notes:\n",
      "[1] Standard Errors assume that the covariance matrix of the errors is correctly specified.\n",
      "[2] The condition number is large, 8.53e+04. This might indicate that there are\n",
      "strong multicollinearity or other numerical problems.\n"
     ]
    }
   ],
   "source": [
    "# The statsmodels library provides a convenient means to get the\n",
    "# same statistics\n",
    "import statsmodels.api as sm\n",
    "\n",
    "X = auto_df.drop(['mpg'], axis=1)\n",
    "X = sm.add_constant(X)     # add bias constant\n",
    "y = auto_df['mpg']\n",
    "\n",
    "# add bias constant; \n",
    "#without this the equation turns into y = βx\n",
    "\n",
    "# syntax is OLS(response, predictor)\n",
    "model = sm.OLS(y, X).fit()\n",
    "print(model.summary())"
   ]
  },
  {
   "cell_type": "code",
   "execution_count": 15,
   "metadata": {},
   "outputs": [
    {
     "data": {
      "text/plain": [
       "10.0"
      ]
     },
     "execution_count": 15,
     "metadata": {},
     "output_type": "execute_result"
    }
   ],
   "source": [
    "1.0e1  # 1.0x10"
   ]
  },
  {
   "cell_type": "code",
   "execution_count": 14,
   "metadata": {},
   "outputs": [
    {
     "data": {
      "text/plain": [
       "0.1"
      ]
     },
     "execution_count": 14,
     "metadata": {},
     "output_type": "execute_result"
    }
   ],
   "source": [
    "1.0e-1  # 1.0x0.1"
   ]
  },
  {
   "cell_type": "code",
   "execution_count": 16,
   "metadata": {},
   "outputs": [
    {
     "data": {
      "text/plain": [
       "0.01"
      ]
     },
     "execution_count": 16,
     "metadata": {},
     "output_type": "execute_result"
    }
   ],
   "source": [
    "1.0e-2  # 1.0x0.01"
   ]
  },
  {
   "cell_type": "code",
   "execution_count": null,
   "metadata": {},
   "outputs": [],
   "source": []
  }
 ],
 "metadata": {
  "colab": {
   "collapsed_sections": [],
   "name": "229351-LAB06.ipynb",
   "provenance": [
    {
     "file_id": "1k58-rg4oQW3wpRV4o0QKkjNuoDH4G6JK",
     "timestamp": 1576730343500
    }
   ]
  },
  "kernelspec": {
   "display_name": "Python 3 (ipykernel)",
   "language": "python",
   "name": "python3"
  },
  "language_info": {
   "codemirror_mode": {
    "name": "ipython",
    "version": 3
   },
   "file_extension": ".py",
   "mimetype": "text/x-python",
   "name": "python",
   "nbconvert_exporter": "python",
   "pygments_lexer": "ipython3",
   "version": "3.10.8"
  }
 },
 "nbformat": 4,
 "nbformat_minor": 4
}

{
 "cells": [
  {
   "cell_type": "markdown",
   "metadata": {
    "id": "rUWDxJYaXbGS"
   },
   "source": [
    "ปฏิบัติการครั้งที่ 1 กระบวนวิชา 229351 Statistical Learning for Data Science\n",
    "\n",
    "คำชี้แจง\n",
    "\n",
    "1. ให้เริ่มทำปฏิบัติการจาก colab notebook ที่กำหนดให้ จากนั้นส่ง link colab ใน mango canvas\n",
    "\n",
    "ในขั้นตอนแรก ขอให้ download ไฟล์ที่\n",
    "\n",
    "http://www.donlapark.cmustat.com/229351/data/housing.csv"
   ]
  },
  {
   "cell_type": "code",
   "execution_count": null,
   "metadata": {
    "id": "SSRREm_DdrHg"
   },
   "outputs": [],
   "source": [
    "import pandas as pd #dataframes\n",
    "import numpy as np #matrices\n",
    "import matplotlib.pyplot as plt #for plotting\n",
    "\n",
    "%matplotlib inline\n",
    "\n",
    "!wget http://www.donlapark.cmustat.com/229351/data/housing.csv\n",
    "\n",
    "housing = pd.read_csv(\"housing.csv\")\n",
    "\n",
    "housing.head(10)"
   ]
  },
  {
   "cell_type": "markdown",
   "metadata": {
    "id": "upzoFs-mK5ev"
   },
   "source": [
    "## Basic data exploration"
   ]
  },
  {
   "cell_type": "code",
   "execution_count": null,
   "metadata": {
    "id": "49GCMl_wHpDl"
   },
   "outputs": [],
   "source": [
    "housing.shape"
   ]
  },
  {
   "cell_type": "code",
   "execution_count": null,
   "metadata": {
    "id": "Hd74qbAaeR0f"
   },
   "outputs": [],
   "source": [
    "housing.info()"
   ]
  },
  {
   "cell_type": "markdown",
   "metadata": {
    "id": "ahBik4dxLHHh"
   },
   "source": [
    "Which variable has missing data?"
   ]
  },
  {
   "cell_type": "code",
   "execution_count": null,
   "metadata": {
    "id": "1mG0VsHSHdSU"
   },
   "outputs": [],
   "source": [
    "housing = housing.dropna()"
   ]
  },
  {
   "cell_type": "code",
   "execution_count": null,
   "metadata": {
    "id": "WtgbcIp9KU6w"
   },
   "outputs": [],
   "source": [
    "housing.info()"
   ]
  },
  {
   "cell_type": "code",
   "execution_count": null,
   "metadata": {
    "id": "NQ5Y-rARisPo"
   },
   "outputs": [],
   "source": [
    "housing.describe()"
   ]
  },
  {
   "cell_type": "markdown",
   "metadata": {
    "id": "QvqbJODGOt4g"
   },
   "source": [
    "##Exercise 1\n",
    "\n",
    "1. Download ไฟล์ข้อมูลที่\n",
    "  http://www.donlapark.cmustat.com/229351/data/Advertising.csv\n",
    "  ซึ่งเป็นข้อมูลของผลการขายสินค้าอย่างหนึ่ง (Sales) กับการโฆษณาผ่านทาง TV, Radio, Newspaper\n",
    "2. สร้าง dataframe ชื่อว่า **Ads** โดยใช้ข้อมูลชุดนี้\n",
    "3. ดูข้อมูล 5 แถวแรกของ `Ads`\n",
    "4. ตรวจสอบว่ามีข้อมูลที่หายไปหรือไม่\n",
    "5. แสดงค่าสถิติพรรณนา (Descriptive statistics) ของตัวแปรต่างๆ"
   ]
  },
  {
   "cell_type": "code",
   "execution_count": null,
   "metadata": {
    "id": "D3AiDwqorxd-"
   },
   "outputs": [],
   "source": []
  },
  {
   "cell_type": "markdown",
   "metadata": {
    "id": "BGRf5Q4lrUx7"
   },
   "source": []
  },
  {
   "cell_type": "markdown",
   "metadata": {
    "id": "SVybM6hDK_EZ"
   },
   "source": [
    "## Calling, indexing & modifying dataframes"
   ]
  },
  {
   "cell_type": "code",
   "execution_count": null,
   "metadata": {
    "id": "nXy5ao6OMRZQ"
   },
   "outputs": [],
   "source": [
    "# calling a column\n",
    "\n",
    "housing['ocean_proximity']"
   ]
  },
  {
   "cell_type": "markdown",
   "metadata": {
    "id": "VAbEDThTMqQm"
   },
   "source": [
    "`ocean_proximity` is categorical. Let's count its values."
   ]
  },
  {
   "cell_type": "code",
   "execution_count": null,
   "metadata": {
    "id": "8gwOWxrlMmGx"
   },
   "outputs": [],
   "source": [
    "housing[\"ocean_proximity\"].value_counts()"
   ]
  },
  {
   "cell_type": "markdown",
   "metadata": {
    "id": "cKBdn6GuX-ts"
   },
   "source": [
    "## Basic statistics of a variable"
   ]
  },
  {
   "cell_type": "code",
   "execution_count": null,
   "metadata": {
    "id": "XgNQ-7G0XnKU"
   },
   "outputs": [],
   "source": [
    "print(\"Mean: \",housing[\"total_rooms\"].mean())\n",
    "print(\"Standard deviation: \",housing[\"total_rooms\"].std())\n",
    "print(\"Maximum: \",housing[\"total_rooms\"].max())\n",
    "print(\"Minimum: \",housing[\"total_rooms\"].min())"
   ]
  },
  {
   "cell_type": "code",
   "execution_count": null,
   "metadata": {
    "id": "Xa8XxjnrNuN-"
   },
   "outputs": [],
   "source": [
    "housing[[\"longitude\", \"latitude\", \"housing_median_age\"]]"
   ]
  },
  {
   "cell_type": "code",
   "execution_count": null,
   "metadata": {
    "id": "DY1s18C5M6mp"
   },
   "outputs": [],
   "source": [
    "housing.loc[0]"
   ]
  },
  {
   "cell_type": "markdown",
   "metadata": {
    "id": "RsgifpIhRsZ9"
   },
   "source": [
    "## Extracting a subset of dataframe"
   ]
  },
  {
   "cell_type": "code",
   "execution_count": null,
   "metadata": {
    "id": "XxZdjpiBPS4u"
   },
   "outputs": [],
   "source": [
    "housing.loc[1:3, [\"longitude\",\"latitude\"]]"
   ]
  },
  {
   "cell_type": "code",
   "execution_count": null,
   "metadata": {
    "id": "kFJS1xTiSjP0"
   },
   "outputs": [],
   "source": [
    "housing.iloc[2:5,:]"
   ]
  },
  {
   "cell_type": "markdown",
   "metadata": {
    "id": "YjEKjsWRTCk9"
   },
   "source": [
    "## Selecting rows based on conditions"
   ]
  },
  {
   "cell_type": "code",
   "execution_count": null,
   "metadata": {
    "id": "eG0ICaDbTGeJ"
   },
   "outputs": [],
   "source": [
    "housing[housing['latitude']>=40]"
   ]
  },
  {
   "cell_type": "code",
   "execution_count": null,
   "metadata": {
    "id": "N-HGxUqbUMS4"
   },
   "outputs": [],
   "source": [
    "housing[(housing['longitude']>-122) & (housing['latitude']>=40)]"
   ]
  },
  {
   "cell_type": "markdown",
   "metadata": {
    "id": "pivXOYE1Uhol"
   },
   "source": [
    "## Exercise 2\n",
    "\n",
    "ในข้อต่อไปนี้ ให้นับแถวและคอลัมน์เริ่มจาก 0\n",
    "1. แสดงค่าสูงสุดของข้อมูลที่อยู่ในแถวที่ 200-400 ของตัวแปร `total_bedrooms` \n",
    "2. แสดง 3 คอลัมน์สุดท้ายของพื้นที่ที่มีจำนวนห้องนอน (`total_bedrooms`) มากกว่า 900 ห้อง"
   ]
  },
  {
   "cell_type": "code",
   "execution_count": null,
   "metadata": {
    "id": "vGS_V4dW1wli"
   },
   "outputs": [],
   "source": []
  },
  {
   "cell_type": "markdown",
   "metadata": {
    "id": "8DdzR2tNxwNS"
   },
   "source": [
    "##Plotting"
   ]
  },
  {
   "cell_type": "code",
   "execution_count": null,
   "metadata": {
    "id": "MDLNDwW-izL-"
   },
   "outputs": [],
   "source": [
    "housing.hist(bins=20, figsize=(15,15))\n",
    "plt.show()"
   ]
  },
  {
   "cell_type": "code",
   "execution_count": null,
   "metadata": {
    "id": "lgRyhvhmYe-Z"
   },
   "outputs": [],
   "source": [
    "housing.head(3)"
   ]
  },
  {
   "cell_type": "code",
   "execution_count": null,
   "metadata": {
    "id": "MvR4go7gkjg3"
   },
   "outputs": [],
   "source": [
    "housing.plot.scatter(x=\"longitude\", y=\"latitude\");"
   ]
  },
  {
   "cell_type": "code",
   "execution_count": null,
   "metadata": {
    "id": "_6q-QA-fksSy"
   },
   "outputs": [],
   "source": [
    "housing.plot.scatter(x=\"longitude\", y=\"latitude\", alpha=0.1)"
   ]
  },
  {
   "cell_type": "code",
   "execution_count": null,
   "metadata": {
    "id": "_CA6a2dAk31N"
   },
   "outputs": [],
   "source": [
    "corr_matrix = housing.corr()\n",
    "\n",
    "corr_matrix"
   ]
  },
  {
   "cell_type": "markdown",
   "metadata": {
    "id": "UmU2dWrduOet"
   },
   "source": [
    "### Grouping\n",
    "\n",
    "พิจารณา Anscombe dataset ข้างล่างนี้"
   ]
  },
  {
   "cell_type": "code",
   "execution_count": null,
   "metadata": {
    "id": "ZyUH-OJEgKAx"
   },
   "outputs": [],
   "source": [
    "import seaborn as sns\n",
    "\n",
    "df = sns.load_dataset('anscombe')"
   ]
  },
  {
   "cell_type": "code",
   "execution_count": null,
   "metadata": {
    "id": "w1hvYsS9c7aV"
   },
   "outputs": [],
   "source": [
    "df"
   ]
  },
  {
   "cell_type": "code",
   "execution_count": null,
   "metadata": {
    "id": "fMEFyua4dygD"
   },
   "outputs": [],
   "source": [
    "groups = df.groupby('dataset')"
   ]
  },
  {
   "cell_type": "code",
   "execution_count": null,
   "metadata": {
    "id": "w3efL1Fbc_yx"
   },
   "outputs": [],
   "source": [
    "groups.get_group('I')"
   ]
  },
  {
   "cell_type": "code",
   "execution_count": null,
   "metadata": {
    "id": "GjwYjL0xetEV"
   },
   "outputs": [],
   "source": [
    "groups.max()"
   ]
  },
  {
   "cell_type": "markdown",
   "metadata": {
    "id": "31VEO9hkcmhK"
   },
   "source": [
    "## Exercise 3\n",
    "\n",
    "1. คำนวณค่า mean, standard deviation และ correlation matrix ของแต่ละกลุ่ม\n",
    "2. สร้าง scatter plot ของแต่ละกลุ่มด้วย `groups.plot.scatter(...)`\n",
    "3. ลองเปรียบเทียบระหว่างคำตอบที่ได้ในข้อ 1 และข้อ 2 เรามีข้อสังเกตอะไรบ้าง"
   ]
  },
  {
   "cell_type": "code",
   "execution_count": null,
   "metadata": {
    "id": "xCBZSLEJgSu_"
   },
   "outputs": [],
   "source": []
  }
 ],
 "metadata": {
  "colab": {
   "collapsed_sections": [],
   "name": "229351-LAB01.ipynb",
   "provenance": []
  },
  "kernelspec": {
   "display_name": "Python 3 (ipykernel)",
   "language": "python",
   "name": "python3"
  },
  "language_info": {
   "codemirror_mode": {
    "name": "ipython",
    "version": 3
   },
   "file_extension": ".py",
   "mimetype": "text/x-python",
   "name": "python",
   "nbconvert_exporter": "python",
   "pygments_lexer": "ipython3",
   "version": "3.10.6"
  }
 },
 "nbformat": 4,
 "nbformat_minor": 4
}
